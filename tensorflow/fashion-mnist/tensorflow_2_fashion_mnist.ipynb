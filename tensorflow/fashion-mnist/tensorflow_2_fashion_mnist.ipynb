{
 "cells": [
  {
   "cell_type": "markdown",
   "metadata": {
    "colab_type": "text",
    "id": "jYysdyb-CaWM"
   },
   "source": [
    "# Basic classification: Classify images of clothing\n",
    "A tensorflow serving style service example using BentoML\n",
    "\n",
    "\n",
    "![Impression](https://www.google-analytics.com/collect?v=1&tid=UA-112879361-3&cid=555&t=event&ec=tensorflow&ea=tensorflow_2_fashion_mnist&dt=tensorflow_2_fashion_mnist)"
   ]
  },
  {
   "cell_type": "code",
   "execution_count": 2,
   "metadata": {},
   "outputs": [],
   "source": [
    "%reload_ext autoreload\n",
    "%autoreload 2\n",
    "%matplotlib inline"
   ]
  },
  {
   "cell_type": "code",
   "execution_count": 3,
   "metadata": {},
   "outputs": [],
   "source": [
    "!pip install -q bentoml tensorflow matplotlib"
   ]
  },
  {
   "cell_type": "code",
   "execution_count": 4,
   "metadata": {
    "colab": {},
    "colab_type": "code",
    "id": "dzLKpmZICaWN"
   },
   "outputs": [
    {
     "name": "stdout",
     "output_type": "stream",
     "text": [
      "2.1.0\n"
     ]
    }
   ],
   "source": [
    "from __future__ import absolute_import, division, print_function, unicode_literals\n",
    "\n",
    "import io\n",
    "\n",
    "# TensorFlow\n",
    "import tensorflow as tf\n",
    "\n",
    "# Helper libraries\n",
    "import numpy as np\n",
    "import matplotlib.pyplot as plt\n",
    "print(tf.__version__)"
   ]
  },
  {
   "cell_type": "code",
   "execution_count": 5,
   "metadata": {
    "colab": {},
    "colab_type": "code",
    "id": "7MqDQO0KCaWS"
   },
   "outputs": [],
   "source": [
    "fashion_mnist = tf.keras.datasets.fashion_mnist\n",
    "(_train_images, train_labels), (_test_images, test_labels) = fashion_mnist.load_data()\n",
    "class_names = ['T-shirt/top', 'Trouser', 'Pullover', 'Dress', 'Coat',\n",
    "               'Sandal', 'Shirt', 'Sneaker', 'Bag', 'Ankle boot']\n",
    "train_images = _train_images / 255.0\n",
    "test_images = _test_images / 255.0"
   ]
  },
  {
   "cell_type": "code",
   "execution_count": 6,
   "metadata": {},
   "outputs": [],
   "source": [
    "class FashionMnist(tf.keras.Model):\n",
    "    def __init__(self):\n",
    "        super(FashionMnist, self).__init__()\n",
    "        self.cnn = tf.keras.Sequential([\n",
    "            tf.keras.layers.Flatten(input_shape=(28, 28)),\n",
    "            tf.keras.layers.Dense(128, activation='relu'),\n",
    "            tf.keras.layers.Dense(10, activation='softmax')\n",
    "        ])\n",
    "    \n",
    "    @staticmethod\n",
    "    def image_bytes2tensor(inputs):\n",
    "        inputs = tf.map_fn(lambda i: tf.io.decode_png(i, channels=1), inputs, dtype=tf.uint8)\n",
    "        inputs = tf.cast(inputs, tf.float32)\n",
    "        inputs = (255.0 - inputs) / 255.0\n",
    "        inputs = tf.reshape(inputs, [-1, 28, 28])\n",
    "        return inputs\n",
    "\n",
    "    @tf.function\n",
    "    def predict_image(self, inputs):\n",
    "        inputs = self.image_bytes2tensor(inputs)\n",
    "        return self(inputs)\n",
    "    \n",
    "    def call(self, inputs):\n",
    "        return self.cnn(inputs)\n"
   ]
  },
  {
   "cell_type": "markdown",
   "metadata": {},
   "source": [
    "## Build the image preprocessing"
   ]
  },
  {
   "cell_type": "code",
   "execution_count": 7,
   "metadata": {},
   "outputs": [
    {
     "name": "stdout",
     "output_type": "stream",
     "text": [
      "Ankle boot\n"
     ]
    },
    {
     "data": {
      "image/png": "[encoded data removed]",
      "text/plain": [
       "<Figure size 432x288 with 1 Axes>"
      ]
     },
     "metadata": {
      "needs_background": "light"
     },
     "output_type": "display_data"
    }
   ],
   "source": [
    "# pick up a test image\n",
    "d_test_img = _test_images[0]\n",
    "print(class_names[test_labels[0]])\n",
    "\n",
    "plt.imshow(255.0 - d_test_img, cmap='gray')\n",
    "plt.imsave(\"test.png\", 255.0 - d_test_img, cmap='gray')\n",
    "\n",
    "# read bytes\n",
    "with open(\"test.png\", \"rb\") as f:\n",
    "    img_bytes = f.read()\n",
    "\n",
    "# verify saved image\n",
    "assert tf.reduce_mean(FashionMnist.image_bytes2tensor(tf.constant([img_bytes])) - d_test_img) < 0.01"
   ]
  },
  {
   "cell_type": "markdown",
   "metadata": {
    "colab": {},
    "colab_type": "code",
    "id": "9ODch-OFCaW4"
   },
   "source": [
    "## Train the model\n"
   ]
  },
  {
   "cell_type": "code",
   "execution_count": 8,
   "metadata": {
    "colab": {},
    "colab_type": "code",
    "id": "Lhan11blCaW7"
   },
   "outputs": [
    {
     "name": "stdout",
     "output_type": "stream",
     "text": [
      "Train on 60000 samples\n",
      "60000/60000 [==============================] - 4s 64us/sample - loss: 0.5019 - accuracy: 0.8242s - loss: 0.5021 - accuracy: 0.82\n"
     ]
    },
    {
     "data": {
      "text/plain": [
       "<tensorflow.python.keras.callbacks.History at 0x7fd844b3d390>"
      ]
     },
     "execution_count": 8,
     "metadata": {},
     "output_type": "execute_result"
    }
   ],
   "source": [
    "model = FashionMnist()\n",
    "model.compile(optimizer='adam',\n",
    "              loss='sparse_categorical_crossentropy',\n",
    "              metrics=['accuracy'])\n",
    "model.fit(train_images, train_labels, epochs=1)"
   ]
  },
  {
   "cell_type": "markdown",
   "metadata": {},
   "source": [
    "## Model inference test run"
   ]
  },
  {
   "cell_type": "code",
   "execution_count": 9,
   "metadata": {},
   "outputs": [
    {
     "data": {
      "text/plain": [
       "'Ankle boot'"
      ]
     },
     "execution_count": 9,
     "metadata": {},
     "output_type": "execute_result"
    }
   ],
   "source": [
    "predict = model.predict_image(tf.constant([img_bytes]))\n",
    "klass = tf.argmax(predict, axis=1)[0]\n",
    "class_names[klass]"
   ]
  },
  {
   "cell_type": "markdown",
   "metadata": {
    "colab_type": "text",
    "id": "YFc2HbEVCaXd"
   },
   "source": [
    "And the model predicts a label as expected."
   ]
  },
  {
   "cell_type": "markdown",
   "metadata": {},
   "source": [
    "# Create BentoService class"
   ]
  },
  {
   "cell_type": "code",
   "execution_count": 10,
   "metadata": {},
   "outputs": [
    {
     "name": "stdout",
     "output_type": "stream",
     "text": [
      "Overwriting tensorflow_fashion_mnist.py\n"
     ]
    }
   ],
   "source": [
    "%%writefile tensorflow_fashion_mnist.py\n",
    "\n",
    "import bentoml\n",
    "import tensorflow as tf\n",
    "import numpy as np\n",
    "from PIL import Image\n",
    "\n",
    "from bentoml.artifact import (\n",
    "    TensorflowSavedModelArtifact,\n",
    ")\n",
    "from bentoml.handlers import TensorflowTensorHandler\n",
    "\n",
    "\n",
    "FASHION_MNIST_CLASSES = ['T-shirt/top', 'Trouser', 'Pullover', 'Dress', 'Coat',\n",
    "               'Sandal', 'Shirt', 'Sneaker', 'Bag', 'Ankle boot']\n",
    "\n",
    "\n",
    "@bentoml.env(pip_dependencies=['tensorflow', 'numpy', 'pillow'])\n",
    "@bentoml.artifacts([TensorflowSavedModelArtifact('model')])\n",
    "class FashionMnistTensorflow(bentoml.BentoService):\n",
    "\n",
    "    @bentoml.api(TensorflowTensorHandler)\n",
    "    def predict(self, inputs):\n",
    "        outputs = self.artifacts.model.predict_image(inputs)\n",
    "        output_classes = tf.math.argmax(outputs, axis=1)\n",
    "        return FASHION_MNIST_CLASSES[output_classes[0]]"
   ]
  },
  {
   "cell_type": "code",
   "execution_count": 11,
   "metadata": {
    "scrolled": false
   },
   "outputs": [
    {
     "name": "stdout",
     "output_type": "stream",
     "text": [
      "[2020-07-19 22:20:37,253] WARNING - bentoml.handlers.* will be deprecated after BentoML 1.0, use bentoml.adapters.* instead\n",
      "[2020-07-19 22:20:37,258] WARNING - TensorflowTensorHandler will be deprecated after BentoML 1.0, use TfTensorInput instead\n",
      "WARNING:tensorflow:From /Users/chaoyu/opt/miniconda3/envs/btml-dev/lib/python3.7/site-packages/tensorflow_core/python/ops/resource_variable_ops.py:1786: calling BaseResourceVariable.__init__ (from tensorflow.python.ops.resource_variable_ops) with constraint is deprecated and will be removed in a future version.\n",
      "Instructions for updating:\n",
      "If using Keras pass *_constraint arguments to layers.\n",
      "INFO:tensorflow:Assets written to: /private/var/folders/7p/y_934t3s4yg8fx595vr28gym0000gn/T/bentoml-temp-6oue3pr8/FashionMnistTensorflow/artifacts/model_saved_model/assets\n",
      "[2020-07-19 22:20:57,551] INFO - BentoService bundle 'FashionMnistTensorflow:20200719222038_DE06B8' saved to: /Users/chaoyu/bentoml/repository/FashionMnistTensorflow/20200719222038_DE06B8\n"
     ]
    }
   ],
   "source": [
    "from tensorflow_fashion_mnist import FashionMnistTensorflow\n",
    "\n",
    "bento_svc = FashionMnistTensorflow()\n",
    "bento_svc.pack(\"model\", model)\n",
    "saved_path = bento_svc.save()"
   ]
  },
  {
   "cell_type": "markdown",
   "metadata": {},
   "source": [
    "## Use BentoService with BentoML CLI"
   ]
  },
  {
   "cell_type": "markdown",
   "metadata": {},
   "source": [
    "**`bentoml get <BentoService Name>` list all of BentoService's versions**"
   ]
  },
  {
   "cell_type": "code",
   "execution_count": 13,
   "metadata": {},
   "outputs": [
    {
     "name": "stdout",
     "output_type": "stream",
     "text": [
      "\u001b[39mBENTO_SERVICE                                 AGE                        APIS                                  ARTIFACTS\r\n",
      "FashionMnistTensorflow:20200719222038_DE06B8  1 minute and 7.58 seconds  predict<TfTensorInput:DefaultOutput>  model<TensorflowSavedModelArtifact>\u001b[0m\r\n"
     ]
    }
   ],
   "source": [
    "!bentoml get FashionMnistTensorflow"
   ]
  },
  {
   "cell_type": "markdown",
   "metadata": {},
   "source": [
    "**`bentoml get <BentoService name>:<bentoService version>` display detailed information of the specific BentoService version**"
   ]
  },
  {
   "cell_type": "code",
   "execution_count": 15,
   "metadata": {},
   "outputs": [
    {
     "name": "stdout",
     "output_type": "stream",
     "text": [
      "[2020-07-19 22:22:11,145] INFO - Getting latest version FashionMnistTensorflow:20200719222038_DE06B8\n",
      "\u001b[39m{\n",
      "  \"name\": \"FashionMnistTensorflow\",\n",
      "  \"version\": \"20200719222038_DE06B8\",\n",
      "  \"uri\": {\n",
      "    \"type\": \"LOCAL\",\n",
      "    \"uri\": \"/Users/chaoyu/bentoml/repository/FashionMnistTensorflow/20200719222038_DE06B8\"\n",
      "  },\n",
      "  \"bentoServiceMetadata\": {\n",
      "    \"name\": \"FashionMnistTensorflow\",\n",
      "    \"version\": \"20200719222038_DE06B8\",\n",
      "    \"createdAt\": \"2020-07-20T05:20:57.511519Z\",\n",
      "    \"env\": {\n",
      "      \"condaEnv\": \"name: bentoml-FashionMnistTensorflow\\nchannels:\\n- defaults\\ndependencies:\\n- python=3.7.5\\n- pip\\n\",\n",
      "      \"pipDependencies\": \"tensorflow\\nbentoml==0.8.3\\nnumpy\\npillow\",\n",
      "      \"pythonVersion\": \"3.7.5\",\n",
      "      \"dockerBaseImage\": \"bentoml/model-server:0.8.3\"\n",
      "    },\n",
      "    \"artifacts\": [\n",
      "      {\n",
      "        \"name\": \"model\",\n",
      "        \"artifactType\": \"TensorflowSavedModelArtifact\"\n",
      "      }\n",
      "    ],\n",
      "    \"apis\": [\n",
      "      {\n",
      "        \"name\": \"predict\",\n",
      "        \"inputType\": \"TfTensorInput\",\n",
      "        \"docs\": \"BentoService API\",\n",
      "        \"inputConfig\": {\n",
      "          \"method\": \"predict\",\n",
      "          \"is_batch_input\": true\n",
      "        },\n",
      "        \"outputConfig\": {\n",
      "          \"cors\": \"*\"\n",
      "        },\n",
      "        \"outputType\": \"DefaultOutput\",\n",
      "        \"mbMaxLatency\": 300,\n",
      "        \"mbMaxBatchSize\": 2000\n",
      "      }\n",
      "    ]\n",
      "  }\n",
      "}\u001b[0m\n"
     ]
    }
   ],
   "source": [
    "!bentoml get FashionMnistTensorflow:latest"
   ]
  },
  {
   "cell_type": "markdown",
   "metadata": {},
   "source": [
    "**Serve bentoml REST server locally**"
   ]
  },
  {
   "cell_type": "code",
   "execution_count": 16,
   "metadata": {},
   "outputs": [
    {
     "name": "stdout",
     "output_type": "stream",
     "text": [
      "[2020-07-19 22:22:15,053] INFO - Getting latest version FashionMnistTensorflow:20200719222038_DE06B8\n",
      "[2020-07-19 22:22:18,712] WARNING - bentoml.handlers.* will be deprecated after BentoML 1.0, use bentoml.adapters.* instead\n",
      "[2020-07-19 22:22:18,713] WARNING - TensorflowTensorHandler will be deprecated after BentoML 1.0, use TfTensorInput instead\n",
      "2020-07-19 22:22:18.925997: I tensorflow/core/platform/cpu_feature_guard.cc:142] Your CPU supports instructions that this TensorFlow binary was not compiled to use: AVX2 FMA\n",
      "2020-07-19 22:22:18.946186: I tensorflow/compiler/xla/service/service.cc:168] XLA service 0x7f95871c8720 initialized for platform Host (this does not guarantee that XLA will be used). Devices:\n",
      "2020-07-19 22:22:18.946223: I tensorflow/compiler/xla/service/service.cc:176]   StreamExecutor device (0): Host, Default Version\n",
      " * Serving Flask app \"FashionMnistTensorflow\" (lazy loading)\n",
      " * Environment: production\n",
      "\u001b[31m   WARNING: This is a development server. Do not use it in a production deployment.\u001b[0m\n",
      "\u001b[2m   Use a production WSGI server instead.\u001b[0m\n",
      " * Debug mode: off\n",
      " * Running on http://127.0.0.1:8890/ (Press CTRL+C to quit)\n",
      "^C\n"
     ]
    }
   ],
   "source": [
    "!bentoml serve FashionMnistTensorflow:latest"
   ]
  },
  {
   "cell_type": "markdown",
   "metadata": {},
   "source": [
    "## Query REST API with python"
   ]
  },
  {
   "cell_type": "code",
   "execution_count": 17,
   "metadata": {},
   "outputs": [
    {
     "name": "stdout",
     "output_type": "stream",
     "text": [
      "Data: {\"instances\": [{\"b64\": \"iVBORw0KGgoAAAANSUhEUgAAAB ... ufkz8DPG//sD/AX8I8DvdgnOxdB4B1wAAAAASUVORK5CYII=\"}]}\n",
      "<Response [500]>\n",
      "An error has occurred in BentoML user code when handling this request, find the error details in server logs\n"
     ]
    }
   ],
   "source": [
    "import base64\n",
    "import json\n",
    "import requests\n",
    "\n",
    "with open(\"test.png\", \"rb\") as f:\n",
    "    img_bytes = f.read()\n",
    "img_b64 = base64.b64encode(img_bytes).decode()\n",
    "\n",
    "\n",
    "headers = {\"content-type\": \"application/json\"}\n",
    "data = json.dumps(\n",
    "       {\"instances\": [{\"b64\": img_b64}]}\n",
    ")\n",
    "print('Data: {} ... {}'.format(data[:50], data[len(data)-52:]))\n",
    "\n",
    "json_response = requests.post(f'http://localhost:5000/predict', data=data, headers=headers)\n",
    "print(json_response)\n",
    "print(json_response.text)"
   ]
  },
  {
   "cell_type": "markdown",
   "metadata": {},
   "source": [
    "# Use BentoService as PyPI package\n",
    "\n",
    "`pip install $SAVED_PATH` also installs a CLI tool for accessing the BentoML service"
   ]
  },
  {
   "cell_type": "code",
   "execution_count": 18,
   "metadata": {
    "scrolled": true
   },
   "outputs": [
    {
     "name": "stdout",
     "output_type": "stream",
     "text": [
      "Processing /Users/chaoyu/bentoml/repository/FashionMnistTensorflow/20200719222038_DE06B8\n",
      "Requirement already satisfied: tensorflow in /Users/chaoyu/opt/miniconda3/envs/btml-dev/lib/python3.7/site-packages (from FashionMnistTensorflow===20200719222038-DE06B8) (2.1.0)\n",
      "Requirement already satisfied: bentoml==0.8.3 in /Users/chaoyu/opt/miniconda3/envs/btml-dev/lib/python3.7/site-packages (from FashionMnistTensorflow===20200719222038-DE06B8) (0.8.3)\n",
      "Requirement already satisfied: numpy in /Users/chaoyu/opt/miniconda3/envs/btml-dev/lib/python3.7/site-packages (from FashionMnistTensorflow===20200719222038-DE06B8) (1.18.5)\n",
      "Requirement already satisfied: pillow in /Users/chaoyu/opt/miniconda3/envs/btml-dev/lib/python3.7/site-packages (from FashionMnistTensorflow===20200719222038-DE06B8) (7.1.0)\n",
      "Requirement already satisfied: keras-applications>=1.0.8 in /Users/chaoyu/opt/miniconda3/envs/btml-dev/lib/python3.7/site-packages (from tensorflow->FashionMnistTensorflow===20200719222038-DE06B8) (1.0.8)\n",
      "Requirement already satisfied: astor>=0.6.0 in /Users/chaoyu/opt/miniconda3/envs/btml-dev/lib/python3.7/site-packages (from tensorflow->FashionMnistTensorflow===20200719222038-DE06B8) (0.8.1)\n",
      "Requirement already satisfied: opt-einsum>=2.3.2 in /Users/chaoyu/opt/miniconda3/envs/btml-dev/lib/python3.7/site-packages (from tensorflow->FashionMnistTensorflow===20200719222038-DE06B8) (3.1.0)\n",
      "Requirement already satisfied: tensorflow-estimator<2.2.0,>=2.1.0rc0 in /Users/chaoyu/opt/miniconda3/envs/btml-dev/lib/python3.7/site-packages (from tensorflow->FashionMnistTensorflow===20200719222038-DE06B8) (2.1.0)\n",
      "Requirement already satisfied: keras-preprocessing>=1.1.0 in /Users/chaoyu/opt/miniconda3/envs/btml-dev/lib/python3.7/site-packages (from tensorflow->FashionMnistTensorflow===20200719222038-DE06B8) (1.1.0)\n",
      "Requirement already satisfied: wheel>=0.26; python_version >= \"3\" in /Users/chaoyu/opt/miniconda3/envs/btml-dev/lib/python3.7/site-packages (from tensorflow->FashionMnistTensorflow===20200719222038-DE06B8) (0.33.6)\n",
      "Requirement already satisfied: google-pasta>=0.1.6 in /Users/chaoyu/opt/miniconda3/envs/btml-dev/lib/python3.7/site-packages (from tensorflow->FashionMnistTensorflow===20200719222038-DE06B8) (0.1.8)\n",
      "Requirement already satisfied: tensorboard<2.2.0,>=2.1.0 in /Users/chaoyu/opt/miniconda3/envs/btml-dev/lib/python3.7/site-packages (from tensorflow->FashionMnistTensorflow===20200719222038-DE06B8) (2.1.1)\n",
      "Requirement already satisfied: wrapt>=1.11.1 in /Users/chaoyu/opt/miniconda3/envs/btml-dev/lib/python3.7/site-packages (from tensorflow->FashionMnistTensorflow===20200719222038-DE06B8) (1.11.2)\n",
      "Requirement already satisfied: protobuf>=3.8.0 in /Users/chaoyu/opt/miniconda3/envs/btml-dev/lib/python3.7/site-packages (from tensorflow->FashionMnistTensorflow===20200719222038-DE06B8) (3.11.3)\n",
      "Requirement already satisfied: absl-py>=0.7.0 in /Users/chaoyu/opt/miniconda3/envs/btml-dev/lib/python3.7/site-packages (from tensorflow->FashionMnistTensorflow===20200719222038-DE06B8) (0.8.1)\n",
      "Requirement already satisfied: grpcio>=1.8.6 in /Users/chaoyu/opt/miniconda3/envs/btml-dev/lib/python3.7/site-packages (from tensorflow->FashionMnistTensorflow===20200719222038-DE06B8) (1.27.2)\n",
      "Requirement already satisfied: gast==0.2.2 in /Users/chaoyu/opt/miniconda3/envs/btml-dev/lib/python3.7/site-packages (from tensorflow->FashionMnistTensorflow===20200719222038-DE06B8) (0.2.2)\n",
      "Requirement already satisfied: scipy==1.4.1; python_version >= \"3\" in /Users/chaoyu/opt/miniconda3/envs/btml-dev/lib/python3.7/site-packages (from tensorflow->FashionMnistTensorflow===20200719222038-DE06B8) (1.4.1)\n",
      "Requirement already satisfied: six>=1.12.0 in /Users/chaoyu/opt/miniconda3/envs/btml-dev/lib/python3.7/site-packages (from tensorflow->FashionMnistTensorflow===20200719222038-DE06B8) (1.14.0)\n",
      "Requirement already satisfied: termcolor>=1.1.0 in /Users/chaoyu/opt/miniconda3/envs/btml-dev/lib/python3.7/site-packages (from tensorflow->FashionMnistTensorflow===20200719222038-DE06B8) (1.1.0)\n",
      "Requirement already satisfied: gunicorn in /Users/chaoyu/opt/miniconda3/envs/btml-dev/lib/python3.7/site-packages (from bentoml==0.8.3->FashionMnistTensorflow===20200719222038-DE06B8) (20.0.4)\n",
      "Requirement already satisfied: packaging in /Users/chaoyu/opt/miniconda3/envs/btml-dev/lib/python3.7/site-packages (from bentoml==0.8.3->FashionMnistTensorflow===20200719222038-DE06B8) (20.3)\n",
      "Requirement already satisfied: py-zipkin in /Users/chaoyu/opt/miniconda3/envs/btml-dev/lib/python3.7/site-packages (from bentoml==0.8.3->FashionMnistTensorflow===20200719222038-DE06B8) (0.18.7)\n",
      "Requirement already satisfied: prometheus-client in /Users/chaoyu/opt/miniconda3/envs/btml-dev/lib/python3.7/site-packages (from bentoml==0.8.3->FashionMnistTensorflow===20200719222038-DE06B8) (0.7.1)\n",
      "Requirement already satisfied: ruamel.yaml>=0.15.0 in /Users/chaoyu/opt/miniconda3/envs/btml-dev/lib/python3.7/site-packages (from bentoml==0.8.3->FashionMnistTensorflow===20200719222038-DE06B8) (0.16.10)\n",
      "Requirement already satisfied: python-dateutil<2.8.1,>=2.1 in /Users/chaoyu/opt/miniconda3/envs/btml-dev/lib/python3.7/site-packages (from bentoml==0.8.3->FashionMnistTensorflow===20200719222038-DE06B8) (2.8.0)\n",
      "Requirement already satisfied: cerberus in /Users/chaoyu/opt/miniconda3/envs/btml-dev/lib/python3.7/site-packages (from bentoml==0.8.3->FashionMnistTensorflow===20200719222038-DE06B8) (1.3.2)\n",
      "Requirement already satisfied: certifi in /Users/chaoyu/opt/miniconda3/envs/btml-dev/lib/python3.7/site-packages (from bentoml==0.8.3->FashionMnistTensorflow===20200719222038-DE06B8) (2020.4.5.1)\n",
      "Requirement already satisfied: alembic in /Users/chaoyu/opt/miniconda3/envs/btml-dev/lib/python3.7/site-packages (from bentoml==0.8.3->FashionMnistTensorflow===20200719222038-DE06B8) (1.4.2)\n",
      "Requirement already satisfied: psutil in /Users/chaoyu/opt/miniconda3/envs/btml-dev/lib/python3.7/site-packages (from bentoml==0.8.3->FashionMnistTensorflow===20200719222038-DE06B8) (5.7.0)\n",
      "Requirement already satisfied: flask in /Users/chaoyu/opt/miniconda3/envs/btml-dev/lib/python3.7/site-packages (from bentoml==0.8.3->FashionMnistTensorflow===20200719222038-DE06B8) (1.0.4)\n",
      "Requirement already satisfied: sqlalchemy>=1.3.0 in /Users/chaoyu/opt/miniconda3/envs/btml-dev/lib/python3.7/site-packages (from bentoml==0.8.3->FashionMnistTensorflow===20200719222038-DE06B8) (1.3.16)\n",
      "Requirement already satisfied: configparser in /Users/chaoyu/opt/miniconda3/envs/btml-dev/lib/python3.7/site-packages (from bentoml==0.8.3->FashionMnistTensorflow===20200719222038-DE06B8) (5.0.0)\n",
      "Requirement already satisfied: aiohttp in /Users/chaoyu/opt/miniconda3/envs/btml-dev/lib/python3.7/site-packages (from bentoml==0.8.3->FashionMnistTensorflow===20200719222038-DE06B8) (3.6.2)\n",
      "Requirement already satisfied: docker in /Users/chaoyu/opt/miniconda3/envs/btml-dev/lib/python3.7/site-packages (from bentoml==0.8.3->FashionMnistTensorflow===20200719222038-DE06B8) (4.1.0)\n",
      "Requirement already satisfied: humanfriendly in /Users/chaoyu/opt/miniconda3/envs/btml-dev/lib/python3.7/site-packages (from bentoml==0.8.3->FashionMnistTensorflow===20200719222038-DE06B8) (8.2)\n",
      "Requirement already satisfied: python-json-logger in /Users/chaoyu/opt/miniconda3/envs/btml-dev/lib/python3.7/site-packages (from bentoml==0.8.3->FashionMnistTensorflow===20200719222038-DE06B8) (0.1.11)\n",
      "Requirement already satisfied: tabulate in /Users/chaoyu/opt/miniconda3/envs/btml-dev/lib/python3.7/site-packages (from bentoml==0.8.3->FashionMnistTensorflow===20200719222038-DE06B8) (0.8.6)\n",
      "Requirement already satisfied: click>=7.0 in /Users/chaoyu/opt/miniconda3/envs/btml-dev/lib/python3.7/site-packages (from bentoml==0.8.3->FashionMnistTensorflow===20200719222038-DE06B8) (7.1.2)\n",
      "Requirement already satisfied: sqlalchemy-utils in /Users/chaoyu/opt/miniconda3/envs/btml-dev/lib/python3.7/site-packages (from bentoml==0.8.3->FashionMnistTensorflow===20200719222038-DE06B8) (0.36.5)\n",
      "Requirement already satisfied: requests in /Users/chaoyu/opt/miniconda3/envs/btml-dev/lib/python3.7/site-packages (from bentoml==0.8.3->FashionMnistTensorflow===20200719222038-DE06B8) (2.22.0)\n",
      "Requirement already satisfied: boto3 in /Users/chaoyu/opt/miniconda3/envs/btml-dev/lib/python3.7/site-packages (from bentoml==0.8.3->FashionMnistTensorflow===20200719222038-DE06B8) (1.14.17)\n",
      "Requirement already satisfied: h5py in /Users/chaoyu/opt/miniconda3/envs/btml-dev/lib/python3.7/site-packages (from keras-applications>=1.0.8->tensorflow->FashionMnistTensorflow===20200719222038-DE06B8) (2.10.0)\n",
      "Requirement already satisfied: setuptools>=41.0.0 in /Users/chaoyu/opt/miniconda3/envs/btml-dev/lib/python3.7/site-packages (from tensorboard<2.2.0,>=2.1.0->tensorflow->FashionMnistTensorflow===20200719222038-DE06B8) (42.0.2.post20191203)\n",
      "Requirement already satisfied: werkzeug>=0.11.15 in /Users/chaoyu/opt/miniconda3/envs/btml-dev/lib/python3.7/site-packages (from tensorboard<2.2.0,>=2.1.0->tensorflow->FashionMnistTensorflow===20200719222038-DE06B8) (1.0.1)\n"
     ]
    },
    {
     "name": "stdout",
     "output_type": "stream",
     "text": [
      "Requirement already satisfied: markdown>=2.6.8 in /Users/chaoyu/opt/miniconda3/envs/btml-dev/lib/python3.7/site-packages (from tensorboard<2.2.0,>=2.1.0->tensorflow->FashionMnistTensorflow===20200719222038-DE06B8) (3.1.1)\n",
      "Requirement already satisfied: google-auth-oauthlib<0.5,>=0.4.1 in /Users/chaoyu/opt/miniconda3/envs/btml-dev/lib/python3.7/site-packages (from tensorboard<2.2.0,>=2.1.0->tensorflow->FashionMnistTensorflow===20200719222038-DE06B8) (0.4.1)\n",
      "Requirement already satisfied: google-auth<2,>=1.6.3 in /Users/chaoyu/opt/miniconda3/envs/btml-dev/lib/python3.7/site-packages (from tensorboard<2.2.0,>=2.1.0->tensorflow->FashionMnistTensorflow===20200719222038-DE06B8) (1.8.2)\n",
      "Requirement already satisfied: pyparsing>=2.0.2 in /Users/chaoyu/opt/miniconda3/envs/btml-dev/lib/python3.7/site-packages (from packaging->bentoml==0.8.3->FashionMnistTensorflow===20200719222038-DE06B8) (2.4.7)\n",
      "Requirement already satisfied: thriftpy2>=0.4.0 in /Users/chaoyu/opt/miniconda3/envs/btml-dev/lib/python3.7/site-packages (from py-zipkin->bentoml==0.8.3->FashionMnistTensorflow===20200719222038-DE06B8) (0.4.10)\n",
      "Requirement already satisfied: ruamel.yaml.clib>=0.1.2; platform_python_implementation == \"CPython\" and python_version < \"3.9\" in /Users/chaoyu/opt/miniconda3/envs/btml-dev/lib/python3.7/site-packages (from ruamel.yaml>=0.15.0->bentoml==0.8.3->FashionMnistTensorflow===20200719222038-DE06B8) (0.2.0)\n",
      "Requirement already satisfied: python-editor>=0.3 in /Users/chaoyu/opt/miniconda3/envs/btml-dev/lib/python3.7/site-packages (from alembic->bentoml==0.8.3->FashionMnistTensorflow===20200719222038-DE06B8) (1.0.4)\n",
      "Requirement already satisfied: Mako in /Users/chaoyu/opt/miniconda3/envs/btml-dev/lib/python3.7/site-packages (from alembic->bentoml==0.8.3->FashionMnistTensorflow===20200719222038-DE06B8) (1.1.2)\n",
      "Requirement already satisfied: Jinja2>=2.10 in /Users/chaoyu/opt/miniconda3/envs/btml-dev/lib/python3.7/site-packages (from flask->bentoml==0.8.3->FashionMnistTensorflow===20200719222038-DE06B8) (2.11.2)\n",
      "Requirement already satisfied: itsdangerous>=0.24 in /Users/chaoyu/opt/miniconda3/envs/btml-dev/lib/python3.7/site-packages (from flask->bentoml==0.8.3->FashionMnistTensorflow===20200719222038-DE06B8) (1.1.0)\n",
      "Requirement already satisfied: async-timeout<4.0,>=3.0 in /Users/chaoyu/opt/miniconda3/envs/btml-dev/lib/python3.7/site-packages (from aiohttp->bentoml==0.8.3->FashionMnistTensorflow===20200719222038-DE06B8) (3.0.1)\n",
      "Requirement already satisfied: multidict<5.0,>=4.5 in /Users/chaoyu/opt/miniconda3/envs/btml-dev/lib/python3.7/site-packages (from aiohttp->bentoml==0.8.3->FashionMnistTensorflow===20200719222038-DE06B8) (4.7.4)\n",
      "Requirement already satisfied: attrs>=17.3.0 in /Users/chaoyu/opt/miniconda3/envs/btml-dev/lib/python3.7/site-packages (from aiohttp->bentoml==0.8.3->FashionMnistTensorflow===20200719222038-DE06B8) (19.3.0)\n",
      "Requirement already satisfied: chardet<4.0,>=2.0 in /Users/chaoyu/opt/miniconda3/envs/btml-dev/lib/python3.7/site-packages (from aiohttp->bentoml==0.8.3->FashionMnistTensorflow===20200719222038-DE06B8) (3.0.4)\n",
      "Requirement already satisfied: yarl<2.0,>=1.0 in /Users/chaoyu/opt/miniconda3/envs/btml-dev/lib/python3.7/site-packages (from aiohttp->bentoml==0.8.3->FashionMnistTensorflow===20200719222038-DE06B8) (1.4.2)\n",
      "Requirement already satisfied: websocket-client>=0.32.0 in /Users/chaoyu/opt/miniconda3/envs/btml-dev/lib/python3.7/site-packages (from docker->bentoml==0.8.3->FashionMnistTensorflow===20200719222038-DE06B8) (0.56.0)\n",
      "Requirement already satisfied: idna<2.9,>=2.5 in /Users/chaoyu/opt/miniconda3/envs/btml-dev/lib/python3.7/site-packages (from requests->bentoml==0.8.3->FashionMnistTensorflow===20200719222038-DE06B8) (2.8)\n",
      "Requirement already satisfied: urllib3!=1.25.0,!=1.25.1,<1.26,>=1.21.1 in /Users/chaoyu/opt/miniconda3/envs/btml-dev/lib/python3.7/site-packages (from requests->bentoml==0.8.3->FashionMnistTensorflow===20200719222038-DE06B8) (1.24.3)\n",
      "Requirement already satisfied: jmespath<1.0.0,>=0.7.1 in /Users/chaoyu/opt/miniconda3/envs/btml-dev/lib/python3.7/site-packages (from boto3->bentoml==0.8.3->FashionMnistTensorflow===20200719222038-DE06B8) (0.9.4)\n",
      "Requirement already satisfied: s3transfer<0.4.0,>=0.3.0 in /Users/chaoyu/opt/miniconda3/envs/btml-dev/lib/python3.7/site-packages (from boto3->bentoml==0.8.3->FashionMnistTensorflow===20200719222038-DE06B8) (0.3.3)\n",
      "Requirement already satisfied: botocore<1.18.0,>=1.17.17 in /Users/chaoyu/opt/miniconda3/envs/btml-dev/lib/python3.7/site-packages (from boto3->bentoml==0.8.3->FashionMnistTensorflow===20200719222038-DE06B8) (1.17.17)\n",
      "Requirement already satisfied: requests-oauthlib>=0.7.0 in /Users/chaoyu/opt/miniconda3/envs/btml-dev/lib/python3.7/site-packages (from google-auth-oauthlib<0.5,>=0.4.1->tensorboard<2.2.0,>=2.1.0->tensorflow->FashionMnistTensorflow===20200719222038-DE06B8) (1.3.0)\n",
      "Requirement already satisfied: cachetools<3.2,>=2.0.0 in /Users/chaoyu/opt/miniconda3/envs/btml-dev/lib/python3.7/site-packages (from google-auth<2,>=1.6.3->tensorboard<2.2.0,>=2.1.0->tensorflow->FashionMnistTensorflow===20200719222038-DE06B8) (3.1.1)\n",
      "Requirement already satisfied: pyasn1-modules>=0.2.1 in /Users/chaoyu/opt/miniconda3/envs/btml-dev/lib/python3.7/site-packages (from google-auth<2,>=1.6.3->tensorboard<2.2.0,>=2.1.0->tensorflow->FashionMnistTensorflow===20200719222038-DE06B8) (0.2.7)\n",
      "Requirement already satisfied: rsa<4.1,>=3.1.4 in /Users/chaoyu/opt/miniconda3/envs/btml-dev/lib/python3.7/site-packages (from google-auth<2,>=1.6.3->tensorboard<2.2.0,>=2.1.0->tensorflow->FashionMnistTensorflow===20200719222038-DE06B8) (3.4.2)\n",
      "Requirement already satisfied: ply<4.0,>=3.4 in /Users/chaoyu/opt/miniconda3/envs/btml-dev/lib/python3.7/site-packages (from thriftpy2>=0.4.0->py-zipkin->bentoml==0.8.3->FashionMnistTensorflow===20200719222038-DE06B8) (3.11)\n",
      "Requirement already satisfied: MarkupSafe>=0.9.2 in /Users/chaoyu/opt/miniconda3/envs/btml-dev/lib/python3.7/site-packages (from Mako->alembic->bentoml==0.8.3->FashionMnistTensorflow===20200719222038-DE06B8) (1.1.1)\n",
      "Requirement already satisfied: docutils<0.16,>=0.10 in /Users/chaoyu/opt/miniconda3/envs/btml-dev/lib/python3.7/site-packages (from botocore<1.18.0,>=1.17.17->boto3->bentoml==0.8.3->FashionMnistTensorflow===20200719222038-DE06B8) (0.15.2)\n",
      "Requirement already satisfied: oauthlib>=3.0.0 in /Users/chaoyu/opt/miniconda3/envs/btml-dev/lib/python3.7/site-packages (from requests-oauthlib>=0.7.0->google-auth-oauthlib<0.5,>=0.4.1->tensorboard<2.2.0,>=2.1.0->tensorflow->FashionMnistTensorflow===20200719222038-DE06B8) (3.1.0)\n",
      "Requirement already satisfied: pyasn1<0.5.0,>=0.4.6 in /Users/chaoyu/opt/miniconda3/envs/btml-dev/lib/python3.7/site-packages (from pyasn1-modules>=0.2.1->google-auth<2,>=1.6.3->tensorboard<2.2.0,>=2.1.0->tensorflow->FashionMnistTensorflow===20200719222038-DE06B8) (0.4.8)\n",
      "Building wheels for collected packages: FashionMnistTensorflow\n",
      "  Building wheel for FashionMnistTensorflow (setup.py) ... \u001b[?25ldone\n",
      "\u001b[?25h  Created wheel for FashionMnistTensorflow: filename=FashionMnistTensorflow-20200719222038_DE06B8-py3-none-any.whl size=1154143 sha256=6798bfde74212052aa3e165a1f94cc423f73984c1ce28b8b1103b0870a8dd6b7\n",
      "  Stored in directory: /private/var/folders/7p/y_934t3s4yg8fx595vr28gym0000gn/T/pip-ephem-wheel-cache-91_a7_m6/wheels/fc/1b/5e/e3e99a6ea5d58f6e9c4fdf6b91e8491aaecbe5b509cba68089\n",
      "Successfully built FashionMnistTensorflow\n",
      "Installing collected packages: FashionMnistTensorflow\n",
      "Successfully installed FashionMnistTensorflow-20200719222038-DE06B8\n"
     ]
    }
   ],
   "source": [
    "!pip install {saved_path}"
   ]
  },
  {
   "cell_type": "code",
   "execution_count": 19,
   "metadata": {},
   "outputs": [
    {
     "name": "stdout",
     "output_type": "stream",
     "text": [
      "Usage: FashionMnistTensorflow [OPTIONS] COMMAND [ARGS]...\r\n",
      "\r\n",
      "  BentoML CLI tool\r\n",
      "\r\n",
      "Options:\r\n",
      "  --version  Show the version and exit.\r\n",
      "  --help     Show this message and exit.\r\n",
      "\r\n",
      "Commands:\r\n",
      "  info                List APIs\r\n",
      "  install-completion  Install shell command completion\r\n",
      "  open-api-spec       Display OpenAPI/Swagger JSON specs\r\n",
      "  run                 Run API function\r\n",
      "  serve               Start local rest server\r\n",
      "  serve-gunicorn      Start local gunicorn server\r\n"
     ]
    }
   ],
   "source": [
    "!FashionMnistTensorflow --help"
   ]
  },
  {
   "cell_type": "markdown",
   "metadata": {},
   "source": [
    "### Run 'predict' api with json data:"
   ]
  },
  {
   "cell_type": "code",
   "execution_count": null,
   "metadata": {},
   "outputs": [],
   "source": [
    "!echo '{\\\"instances\\\":[{\\\"b64\\\":\\\"'$(base64 test.png)'\\\"}]}' > test.json\n",
    "!cat test.json | xargs -I {} FashionMNISTServicer predict --input={}"
   ]
  },
  {
   "cell_type": "markdown",
   "metadata": {},
   "source": [
    "## Build realtime prediction service in docker with BentoService"
   ]
  },
  {
   "cell_type": "code",
   "execution_count": null,
   "metadata": {},
   "outputs": [],
   "source": [
    "!cd {saved_path} && docker build -t tensorflow2-fashion-mnist ."
   ]
  },
  {
   "cell_type": "code",
   "execution_count": null,
   "metadata": {},
   "outputs": [],
   "source": [
    "!docker run -p 5000:5000 tensorflow2-fashion-mnist"
   ]
  },
  {
   "cell_type": "markdown",
   "metadata": {},
   "source": [
    "# Deploy BentoService as REST API server to the cloud\n",
    "\n",
    "\n",
    "BentoML support deployment to multiply cloud provider services, such as AWS Lambda, AWS Sagemaker, Google Cloudrun and etc. You can find the full list and guide on the documentation site at https://docs.bentoml.org/en/latest/deployment/index.html\n",
    "\n",
    "For this demo, we are going to deploy to AWS Sagemaker"
   ]
  },
  {
   "cell_type": "code",
   "execution_count": null,
   "metadata": {},
   "outputs": [],
   "source": [
    "bento_service_tag = f'{bento_svc.name}:{bento_svc.version}'\n",
    "print(bento_service_tag)"
   ]
  },
  {
   "cell_type": "code",
   "execution_count": null,
   "metadata": {},
   "outputs": [],
   "source": [
    "!bentoml sagemaker deploy first-tf-fashion -b {bento_service_tag} --api-name predict --verbose"
   ]
  },
  {
   "cell_type": "code",
   "execution_count": null,
   "metadata": {},
   "outputs": [],
   "source": [
    "!bentoml sagemaker get first-tf-fashion"
   ]
  },
  {
   "cell_type": "code",
   "execution_count": null,
   "metadata": {},
   "outputs": [],
   "source": [
    "!aws sagemaker-runtime invoke-endpoint --endpoint-name dev-first-tf-fashion --content-type 'application/json' \\\n",
    "--body \"{\\\"instances\\\":[{\\\"b64\\\":\\\"iVBORw0KGgoAAAANSUhEUgAAABwAAAAcCAYAAAByDd+UAAAABHNCSVQICAgIfAhkiAAAAAlwSFlzAAAPYQAAD2EBqD+naQAAA2dJREFUSIntlk9L60oYh59Mp43axJoiVj2KboSuXPoJXLkQ/Fx+Ahe6ceFG3CtdWlFcFf9RKlhFatpSbWuaNLHJnIW3OR7ugcu9BzxccGAgZCbv887v/b1JNKWU4hOH+EzYF/AL+OeBYRjysct83wegUqn8HlApRRRFADw+PrK/v4/jOCQSCTRNi/fpug7AwcHB7wEBhHh/9Pj4mGKxyM7Ozt/2NBoNdnd3MU0zvif/CywMQ6SUnJ+fc3NzQy6Xo1KpsLGxgWVZ9Pt9FhYWaLVadLtd5ubmfiT6b2FRFCGlxHEc9vf3UUrR7/d5fX1FKRXPq6srpJRYlsVgMPhn4LD4URTF12EYxlJubW2Ry+WYnp7G8zz6/T65XC6uYzqdRtd1fN+n2+3iOM6vgcPgw+ILIdA0jTAMSSQSAOzt7WHbNtPT0xiGQbvdJpvNMjU1RTKZJAxD3t7e4ni9Xo/b29tfA4egKIoYDAZxAkPYzs4OpVKJ+fl5Wq0W7XYbz/PIZDK8vr6iaRpjY2Mkk0mUUnG8w8ND4INphjbXNA2lFEKIWD6AWq3GwcEBnuextLSE4zj4vk+r1SKVSqFpGq7rxsnpuo4QgnQ6jRCCYrH4DhxK9TH4MKtms0m1WqVcLvP09EQqlWJ8fJx2u0232+Xt7Q3f9xFCUK1WGQwGTExMkEwmEUKglGJ0dJQwDDEMg8vLS+RQqnq9zv39Pb1ej16vh+d53N3d4bouUkpM0ySKIjqdDp7nIaXEdV1GR0fRdZ0gCJidnaXT6eC6LpZl4TgOLy8vpNNpbNvm+fn5XdJCoUCtVkNKSbPZjA0yBDmOg23bKKXwfR/LsoiiCMdxCMOQdDqNYRhkMhkajUaslGVZCCHwPI8gCJBSIo+Ojtje3iafzzMzMxOfJJVKxe9G0zQJggAhRNxvnuehaRpRFGHbNvV6nevra4IgIAxDAAzDwHVddF3HMAympqaQKysrnJ6ecnFx8aOwf50sm82SzWbJZDIEQYBSilarRblcxnVdut0umqZRKpVYXl5mcXGRQqGA7/uxD6SUfPv2DdM031388SfKcRzOzs4ol8ucnJzQbDZ/atqhA7PZLPl8ntXVVdbW1hgZGYnX19fXeXh4YHJyEtM0MU0TKSW6rrO5ufkz8DPG//sD/AX8I8DvdgnOxdB4B1wAAAAASUVORK5CYII=\\\"}]}\" \\\n",
    "output.json && cat output.json"
   ]
  },
  {
   "cell_type": "code",
   "execution_count": null,
   "metadata": {},
   "outputs": [],
   "source": [
    "!bentoml sagemaker delete first-tf-fashion --force"
   ]
  },
  {
   "cell_type": "code",
   "execution_count": null,
   "metadata": {},
   "outputs": [],
   "source": []
  }
 ],
 "metadata": {
  "colab": {
   "collapsed_sections": [],
   "name": "classification.ipynb",
   "private_outputs": true,
   "provenance": [],
   "toc_visible": true
  },
  "kernelspec": {
   "display_name": "Python 3",
   "language": "python",
   "name": "python3"
  },
  "language_info": {
   "codemirror_mode": {
    "name": "ipython",
    "version": 3
   },
   "file_extension": ".py",
   "mimetype": "text/x-python",
   "name": "python",
   "nbconvert_exporter": "python",
   "pygments_lexer": "ipython3",
   "version": "3.7.5"
  }
 },
 "nbformat": 4,
 "nbformat_minor": 4
}
