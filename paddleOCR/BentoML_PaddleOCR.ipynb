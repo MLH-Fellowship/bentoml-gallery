{
  "nbformat": 4,
  "nbformat_minor": 0,
  "metadata": {
    "colab": {
      "name": "BentoML_PaddleOCR.ipynb",
      "provenance": [],
      "collapsed_sections": [],
      "toc_visible": true
    },
    "kernelspec": {
      "display_name": "Python 3",
      "language": "python",
      "name": "python3"
    },
    "language_info": {
      "codemirror_mode": {
        "name": "ipython",
        "version": 3
      },
      "file_extension": ".py",
      "mimetype": "text/x-python",
      "name": "python",
      "nbconvert_exporter": "python",
      "pygments_lexer": "ipython3",
      "version": "3.7.10"
    }
  },
  "cells": [
    {
      "cell_type": "markdown",
      "metadata": {
        "id": "erfOlc-T8kY3"
      },
      "source": [
        "# **BentoML Example: Linear Regression with Paddlepaddle**\n",
        "**BentoML makes moving trained ML models to production easy:**\n",
        "\n",
        "\n",
        "\n",
        "*   Package models trained with any ML framework and reproduce them for model serving in production\n",
        "* **Deploy anywhere** for online API serving or offline batch serving\n",
        "* High-Performance API model server with adaptive micro-batching support\n",
        "* Central hub for managing models and deployment process via Web UI and APIs\n",
        "* Modular and flexible design making it adaptable to your infrastrcuture\n",
        "\n",
        "BentoML is a framework for serving, managing, and deploying machine learning models. It is aiming to bridge the gap between Data Science and DevOps, and enable teams to deliver prediction services in a fast, repeatable, and scalable way.\n",
        "\n",
        "Before reading this example project, be sure to check out the [Getting started guide](https://github.com/bentoml/BentoML/blob/master/guides/quick-start/bentoml-quick-start-guide.ipynb) to learn about the basic concepts in BentoML.\n",
        "\n",
        "This notebook demonstrates how to use BentoML to turn a paddlepaddle model into a docker image containing a REST API server serving this model, how to use your ML service built with BentoML as a CLI tool, and how to distribute it a pypi package.\n",
        "\n",
        "The example is based on [this tutorial](https://www.paddlepaddle.org.cn/documentation/docs/en/1.5/beginners_guide/basics/fit_a_line/README.html), using dataset from the [UCI Machine Learning Repository](https://www.kaggle.com/schirmerchad/bostonhoustingmlnd)"
      ]
    },
    {
      "cell_type": "code",
      "metadata": {
        "id": "54jFhiru8NWO"
      },
      "source": [
        "%reload_ext autoreload\n",
        "%autoreload 2\n",
        "%matplotlib inline"
      ],
      "execution_count": 1,
      "outputs": []
    },
    {
      "cell_type": "code",
      "metadata": {
        "colab": {
          "base_uri": "https://localhost:8080/"
        },
        "id": "XHOPuMGm-Nl2",
        "outputId": "499377dc-2c93-4379-a307-d0af1f005af6"
      },
      "source": [
        "!python3 -m pip install paddlepaddle==2.0.0 -i https://mirror.baidu.com/pypi/simple\n",
        "!git clone https://github.com/PaddlePaddle/PaddleOCR"
      ],
      "execution_count": 2,
      "outputs": [
        {
          "output_type": "stream",
          "text": [
            "Looking in indexes: https://mirror.baidu.com/pypi/simple\n",
            "Requirement already satisfied: paddlepaddle==2.0.0 in /usr/local/lib/python3.7/dist-packages (2.0.0)\n",
            "Requirement already satisfied: requests>=2.20.0 in /usr/local/lib/python3.7/dist-packages (from paddlepaddle==2.0.0) (2.23.0)\n",
            "Requirement already satisfied: astor in /usr/local/lib/python3.7/dist-packages (from paddlepaddle==2.0.0) (0.8.1)\n",
            "Requirement already satisfied: gast==0.3.3 in /usr/local/lib/python3.7/dist-packages (from paddlepaddle==2.0.0) (0.3.3)\n",
            "Requirement already satisfied: Pillow in /usr/local/lib/python3.7/dist-packages (from paddlepaddle==2.0.0) (7.1.2)\n",
            "Requirement already satisfied: protobuf>=3.1.0 in /usr/local/lib/python3.7/dist-packages (from paddlepaddle==2.0.0) (3.12.4)\n",
            "Requirement already satisfied: six in /usr/local/lib/python3.7/dist-packages (from paddlepaddle==2.0.0) (1.15.0)\n",
            "Requirement already satisfied: numpy>=1.13; python_version >= \"3.5\" and platform_system != \"Windows\" in /usr/local/lib/python3.7/dist-packages (from paddlepaddle==2.0.0) (1.19.5)\n",
            "Requirement already satisfied: decorator in /usr/local/lib/python3.7/dist-packages (from paddlepaddle==2.0.0) (4.4.2)\n",
            "Requirement already satisfied: urllib3!=1.25.0,!=1.25.1,<1.26,>=1.21.1 in /usr/local/lib/python3.7/dist-packages (from requests>=2.20.0->paddlepaddle==2.0.0) (1.24.3)\n",
            "Requirement already satisfied: chardet<4,>=3.0.2 in /usr/local/lib/python3.7/dist-packages (from requests>=2.20.0->paddlepaddle==2.0.0) (3.0.4)\n",
            "Requirement already satisfied: idna<3,>=2.5 in /usr/local/lib/python3.7/dist-packages (from requests>=2.20.0->paddlepaddle==2.0.0) (2.10)\n",
            "Requirement already satisfied: certifi>=2017.4.17 in /usr/local/lib/python3.7/dist-packages (from requests>=2.20.0->paddlepaddle==2.0.0) (2020.12.5)\n",
            "Requirement already satisfied: setuptools in /usr/local/lib/python3.7/dist-packages (from protobuf>=3.1.0->paddlepaddle==2.0.0) (56.0.0)\n",
            "fatal: destination path 'PaddleOCR' already exists and is not an empty directory.\n"
          ],
          "name": "stdout"
        }
      ]
    },
    {
      "cell_type": "code",
      "metadata": {
        "colab": {
          "base_uri": "https://localhost:8080/"
        },
        "id": "vTmhsmvk-iZT",
        "outputId": "97d806ef-39f4-47b6-efaa-1b4571234927"
      },
      "source": [
        "#Installing PaddleOCR's dependencies and creating folder to store inference files and results\n",
        "%cd PaddleOCR\n",
        "!pip3 install -r requirements.txt\n",
        "\n",
        "%mkdir inference\n",
        "%cd inference\n",
        "%ls"
      ],
      "execution_count": 3,
      "outputs": [
        {
          "output_type": "stream",
          "text": [
            "/content/PaddleOCR\n",
            "Requirement already satisfied: shapely in /usr/local/lib/python3.7/dist-packages (from -r requirements.txt (line 1)) (1.7.1)\n",
            "Requirement already satisfied: scikit-image==0.17.2 in /usr/local/lib/python3.7/dist-packages (from -r requirements.txt (line 2)) (0.17.2)\n",
            "Requirement already satisfied: imgaug==0.4.0 in /usr/local/lib/python3.7/dist-packages (from -r requirements.txt (line 3)) (0.4.0)\n",
            "Requirement already satisfied: pyclipper in /usr/local/lib/python3.7/dist-packages (from -r requirements.txt (line 4)) (1.2.1)\n",
            "Requirement already satisfied: lmdb in /usr/local/lib/python3.7/dist-packages (from -r requirements.txt (line 5)) (0.99)\n",
            "Requirement already satisfied: tqdm in /usr/local/lib/python3.7/dist-packages (from -r requirements.txt (line 6)) (4.41.1)\n",
            "Requirement already satisfied: numpy in /usr/local/lib/python3.7/dist-packages (from -r requirements.txt (line 7)) (1.19.5)\n",
            "Requirement already satisfied: visualdl in /usr/local/lib/python3.7/dist-packages (from -r requirements.txt (line 8)) (2.1.1)\n",
            "Requirement already satisfied: python-Levenshtein in /usr/local/lib/python3.7/dist-packages (from -r requirements.txt (line 9)) (0.12.2)\n",
            "Requirement already satisfied: opencv-contrib-python==4.2.0.32 in /usr/local/lib/python3.7/dist-packages (from -r requirements.txt (line 10)) (4.2.0.32)\n",
            "Requirement already satisfied: pillow!=7.1.0,!=7.1.1,>=4.3.0 in /usr/local/lib/python3.7/dist-packages (from scikit-image==0.17.2->-r requirements.txt (line 2)) (7.1.2)\n",
            "Requirement already satisfied: imageio>=2.3.0 in /usr/local/lib/python3.7/dist-packages (from scikit-image==0.17.2->-r requirements.txt (line 2)) (2.4.1)\n",
            "Requirement already satisfied: scipy>=1.0.1 in /usr/local/lib/python3.7/dist-packages (from scikit-image==0.17.2->-r requirements.txt (line 2)) (1.4.1)\n",
            "Requirement already satisfied: tifffile>=2019.7.26 in /usr/local/lib/python3.7/dist-packages (from scikit-image==0.17.2->-r requirements.txt (line 2)) (2021.4.8)\n",
            "Requirement already satisfied: PyWavelets>=1.1.1 in /usr/local/lib/python3.7/dist-packages (from scikit-image==0.17.2->-r requirements.txt (line 2)) (1.1.1)\n",
            "Requirement already satisfied: networkx>=2.0 in /usr/local/lib/python3.7/dist-packages (from scikit-image==0.17.2->-r requirements.txt (line 2)) (2.5.1)\n",
            "Requirement already satisfied: matplotlib!=3.0.0,>=2.0.0 in /usr/local/lib/python3.7/dist-packages (from scikit-image==0.17.2->-r requirements.txt (line 2)) (3.2.2)\n",
            "Requirement already satisfied: opencv-python in /usr/local/lib/python3.7/dist-packages (from imgaug==0.4.0->-r requirements.txt (line 3)) (4.1.2.30)\n",
            "Requirement already satisfied: six in /usr/local/lib/python3.7/dist-packages (from imgaug==0.4.0->-r requirements.txt (line 3)) (1.15.0)\n",
            "Requirement already satisfied: pre-commit in /usr/local/lib/python3.7/dist-packages (from visualdl->-r requirements.txt (line 8)) (2.12.1)\n",
            "Requirement already satisfied: shellcheck-py in /usr/local/lib/python3.7/dist-packages (from visualdl->-r requirements.txt (line 8)) (0.7.2.1)\n",
            "Requirement already satisfied: bce-python-sdk in /usr/local/lib/python3.7/dist-packages (from visualdl->-r requirements.txt (line 8)) (0.8.59)\n",
            "Requirement already satisfied: flake8>=3.7.9 in /usr/local/lib/python3.7/dist-packages (from visualdl->-r requirements.txt (line 8)) (3.9.1)\n",
            "Requirement already satisfied: flask>=1.1.1 in /usr/local/lib/python3.7/dist-packages (from visualdl->-r requirements.txt (line 8)) (1.1.2)\n",
            "Requirement already satisfied: requests in /usr/local/lib/python3.7/dist-packages (from visualdl->-r requirements.txt (line 8)) (2.23.0)\n",
            "Requirement already satisfied: protobuf>=3.11.0 in /usr/local/lib/python3.7/dist-packages (from visualdl->-r requirements.txt (line 8)) (3.12.4)\n",
            "Requirement already satisfied: Flask-Babel>=1.0.0 in /usr/local/lib/python3.7/dist-packages (from visualdl->-r requirements.txt (line 8)) (2.0.0)\n",
            "Requirement already satisfied: setuptools in /usr/local/lib/python3.7/dist-packages (from python-Levenshtein->-r requirements.txt (line 9)) (56.0.0)\n",
            "Requirement already satisfied: decorator<5,>=4.3 in /usr/local/lib/python3.7/dist-packages (from networkx>=2.0->scikit-image==0.17.2->-r requirements.txt (line 2)) (4.4.2)\n",
            "Requirement already satisfied: python-dateutil>=2.1 in /usr/local/lib/python3.7/dist-packages (from matplotlib!=3.0.0,>=2.0.0->scikit-image==0.17.2->-r requirements.txt (line 2)) (2.8.1)\n",
            "Requirement already satisfied: cycler>=0.10 in /usr/local/lib/python3.7/dist-packages (from matplotlib!=3.0.0,>=2.0.0->scikit-image==0.17.2->-r requirements.txt (line 2)) (0.10.0)\n",
            "Requirement already satisfied: kiwisolver>=1.0.1 in /usr/local/lib/python3.7/dist-packages (from matplotlib!=3.0.0,>=2.0.0->scikit-image==0.17.2->-r requirements.txt (line 2)) (1.3.1)\n",
            "Requirement already satisfied: pyparsing!=2.0.4,!=2.1.2,!=2.1.6,>=2.0.1 in /usr/local/lib/python3.7/dist-packages (from matplotlib!=3.0.0,>=2.0.0->scikit-image==0.17.2->-r requirements.txt (line 2)) (2.4.7)\n",
            "Requirement already satisfied: identify>=1.0.0 in /usr/local/lib/python3.7/dist-packages (from pre-commit->visualdl->-r requirements.txt (line 8)) (2.2.4)\n",
            "Requirement already satisfied: virtualenv>=20.0.8 in /usr/local/lib/python3.7/dist-packages (from pre-commit->visualdl->-r requirements.txt (line 8)) (20.4.4)\n",
            "Requirement already satisfied: importlib-metadata; python_version < \"3.8\" in /usr/local/lib/python3.7/dist-packages (from pre-commit->visualdl->-r requirements.txt (line 8)) (3.10.1)\n",
            "Requirement already satisfied: toml in /usr/local/lib/python3.7/dist-packages (from pre-commit->visualdl->-r requirements.txt (line 8)) (0.10.2)\n",
            "Requirement already satisfied: pyyaml>=5.1 in /usr/local/lib/python3.7/dist-packages (from pre-commit->visualdl->-r requirements.txt (line 8)) (5.4.1)\n",
            "Requirement already satisfied: nodeenv>=0.11.1 in /usr/local/lib/python3.7/dist-packages (from pre-commit->visualdl->-r requirements.txt (line 8)) (1.6.0)\n",
            "Requirement already satisfied: cfgv>=2.0.0 in /usr/local/lib/python3.7/dist-packages (from pre-commit->visualdl->-r requirements.txt (line 8)) (3.2.0)\n",
            "Requirement already satisfied: future>=0.6.0 in /usr/local/lib/python3.7/dist-packages (from bce-python-sdk->visualdl->-r requirements.txt (line 8)) (0.16.0)\n",
            "Requirement already satisfied: pycryptodome>=3.8.0 in /usr/local/lib/python3.7/dist-packages (from bce-python-sdk->visualdl->-r requirements.txt (line 8)) (3.10.1)\n",
            "Requirement already satisfied: mccabe<0.7.0,>=0.6.0 in /usr/local/lib/python3.7/dist-packages (from flake8>=3.7.9->visualdl->-r requirements.txt (line 8)) (0.6.1)\n",
            "Requirement already satisfied: pyflakes<2.4.0,>=2.3.0 in /usr/local/lib/python3.7/dist-packages (from flake8>=3.7.9->visualdl->-r requirements.txt (line 8)) (2.3.1)\n",
            "Requirement already satisfied: pycodestyle<2.8.0,>=2.7.0 in /usr/local/lib/python3.7/dist-packages (from flake8>=3.7.9->visualdl->-r requirements.txt (line 8)) (2.7.0)\n",
            "Requirement already satisfied: itsdangerous>=0.24 in /usr/local/lib/python3.7/dist-packages (from flask>=1.1.1->visualdl->-r requirements.txt (line 8)) (1.1.0)\n",
            "Requirement already satisfied: click>=5.1 in /usr/local/lib/python3.7/dist-packages (from flask>=1.1.1->visualdl->-r requirements.txt (line 8)) (7.1.2)\n",
            "Requirement already satisfied: Jinja2>=2.10.1 in /usr/local/lib/python3.7/dist-packages (from flask>=1.1.1->visualdl->-r requirements.txt (line 8)) (2.11.3)\n",
            "Requirement already satisfied: Werkzeug>=0.15 in /usr/local/lib/python3.7/dist-packages (from flask>=1.1.1->visualdl->-r requirements.txt (line 8)) (1.0.1)\n",
            "Requirement already satisfied: certifi>=2017.4.17 in /usr/local/lib/python3.7/dist-packages (from requests->visualdl->-r requirements.txt (line 8)) (2020.12.5)\n",
            "Requirement already satisfied: urllib3!=1.25.0,!=1.25.1,<1.26,>=1.21.1 in /usr/local/lib/python3.7/dist-packages (from requests->visualdl->-r requirements.txt (line 8)) (1.24.3)\n",
            "Requirement already satisfied: idna<3,>=2.5 in /usr/local/lib/python3.7/dist-packages (from requests->visualdl->-r requirements.txt (line 8)) (2.10)\n",
            "Requirement already satisfied: chardet<4,>=3.0.2 in /usr/local/lib/python3.7/dist-packages (from requests->visualdl->-r requirements.txt (line 8)) (3.0.4)\n",
            "Requirement already satisfied: Babel>=2.3 in /usr/local/lib/python3.7/dist-packages (from Flask-Babel>=1.0.0->visualdl->-r requirements.txt (line 8)) (2.9.0)\n",
            "Requirement already satisfied: pytz in /usr/local/lib/python3.7/dist-packages (from Flask-Babel>=1.0.0->visualdl->-r requirements.txt (line 8)) (2018.9)\n",
            "Requirement already satisfied: appdirs<2,>=1.4.3 in /usr/local/lib/python3.7/dist-packages (from virtualenv>=20.0.8->pre-commit->visualdl->-r requirements.txt (line 8)) (1.4.4)\n",
            "Requirement already satisfied: distlib<1,>=0.3.1 in /usr/local/lib/python3.7/dist-packages (from virtualenv>=20.0.8->pre-commit->visualdl->-r requirements.txt (line 8)) (0.3.1)\n",
            "Requirement already satisfied: filelock<4,>=3.0.0 in /usr/local/lib/python3.7/dist-packages (from virtualenv>=20.0.8->pre-commit->visualdl->-r requirements.txt (line 8)) (3.0.12)\n",
            "Requirement already satisfied: zipp>=0.5 in /usr/local/lib/python3.7/dist-packages (from importlib-metadata; python_version < \"3.8\"->pre-commit->visualdl->-r requirements.txt (line 8)) (3.4.1)\n",
            "Requirement already satisfied: typing-extensions>=3.6.4; python_version < \"3.8\" in /usr/local/lib/python3.7/dist-packages (from importlib-metadata; python_version < \"3.8\"->pre-commit->visualdl->-r requirements.txt (line 8)) (3.7.4.3)\n",
            "Requirement already satisfied: MarkupSafe>=0.23 in /usr/local/lib/python3.7/dist-packages (from Jinja2>=2.10.1->flask>=1.1.1->visualdl->-r requirements.txt (line 8)) (1.1.1)\n",
            "mkdir: cannot create directory ‘inference’: File exists\n",
            "/content/PaddleOCR/inference\n",
            "\u001b[0m\u001b[34;42mch_ppocr_mobile_v2.0_cls_infer\u001b[0m/       ch_ppocr_mobile_v2.0_det_infer.tar.2\n",
            "ch_ppocr_mobile_v2.0_cls_infer.tar    ch_ppocr_mobile_v2.0_det_infer.tar.3\n",
            "ch_ppocr_mobile_v2.0_cls_infer.tar.1  ch_ppocr_mobile_v2.0_det_infer.tar.4\n",
            "ch_ppocr_mobile_v2.0_cls_infer.tar.2  \u001b[01;34mch_ppocr_mobile_v2.0_rec_infer\u001b[0m/\n",
            "ch_ppocr_mobile_v2.0_cls_infer.tar.3  ch_ppocr_mobile_v2.0_rec_infer.tar\n",
            "\u001b[01;34mch_ppocr_mobile_v2.0_det_infer\u001b[0m/       ch_ppocr_mobile_v2.0_rec_infer.tar.1\n",
            "ch_ppocr_mobile_v2.0_det_infer.tar    ch_ppocr_mobile_v2.0_rec_infer.tar.2\n",
            "ch_ppocr_mobile_v2.0_det_infer.tar.1  ch_ppocr_mobile_v2.0_rec_infer.tar.3\n"
          ],
          "name": "stdout"
        }
      ]
    },
    {
      "cell_type": "code",
      "metadata": {
        "id": "Lq9Tp5DiFJBN",
        "colab": {
          "base_uri": "https://localhost:8080/"
        },
        "outputId": "0249ae49-162a-4e6e-a1b2-2df56414117b"
      },
      "source": [
        "# Download the detection model of the ultra-lightweight Chinese OCR model and uncompress it\n",
        "!wget https://paddleocr.bj.bcebos.com/dygraph_v2.0/ch/ch_ppocr_mobile_v2.0_det_infer.tar && tar xf ch_ppocr_mobile_v2.0_det_infer.tar\n",
        "# Download the recognition model of the ultra-lightweight Chinese OCR model and uncompress it\n",
        "!wget https://paddleocr.bj.bcebos.com/dygraph_v2.0/ch/ch_ppocr_mobile_v2.0_rec_infer.tar && tar xf ch_ppocr_mobile_v2.0_rec_infer.tar\n",
        "# Download the angle classifier model of the ultra-lightweight Chinese OCR model and uncompress it\n",
        "!wget https://paddleocr.bj.bcebos.com/dygraph_v2.0/ch/ch_ppocr_mobile_v2.0_cls_infer.tar && tar xf ch_ppocr_mobile_v2.0_cls_infer.tar\n",
        "%cd /content/PaddleOCR"
      ],
      "execution_count": 4,
      "outputs": [
        {
          "output_type": "stream",
          "text": [
            "--2021-04-23 22:59:08--  https://paddleocr.bj.bcebos.com/dygraph_v2.0/ch/ch_ppocr_mobile_v2.0_det_infer.tar\n",
            "Resolving paddleocr.bj.bcebos.com (paddleocr.bj.bcebos.com)... 103.235.46.61, 2409:8c00:6c21:10ad:0:ff:b00e:67d\n",
            "Connecting to paddleocr.bj.bcebos.com (paddleocr.bj.bcebos.com)|103.235.46.61|:443... connected.\n",
            "HTTP request sent, awaiting response... 200 OK\n",
            "Length: 3164160 (3.0M) [application/x-tar]\n",
            "Saving to: ‘ch_ppocr_mobile_v2.0_det_infer.tar.5’\n",
            "\n",
            "_det_infer.tar.5     15%[==>                 ] 474.97K  43.0KB/s    eta 70s    ^C\n",
            "--2021-04-23 22:59:25--  https://paddleocr.bj.bcebos.com/dygraph_v2.0/ch/ch_ppocr_mobile_v2.0_rec_infer.tar\n",
            "Resolving paddleocr.bj.bcebos.com (paddleocr.bj.bcebos.com)... ^C\n",
            "--2021-04-23 22:59:25--  https://paddleocr.bj.bcebos.com/dygraph_v2.0/ch/ch_ppocr_mobile_v2.0_cls_infer.tar\n",
            "Resolving paddleocr.bj.bcebos.com (paddleocr.bj.bcebos.com)... ^C\n",
            "/content/PaddleOCR\n"
          ],
          "name": "stdout"
        }
      ]
    },
    {
      "cell_type": "code",
      "metadata": {
        "id": "VEPaI7R0FLbg",
        "colab": {
          "base_uri": "https://localhost:8080/"
        },
        "outputId": "30d53de7-73a5-45b4-f619-2b21a852f5d2"
      },
      "source": [
        "%cd /content/PaddleOCR\n",
        "!pip install bentoml\n",
        "!pip install imageio"
      ],
      "execution_count": 5,
      "outputs": [
        {
          "output_type": "stream",
          "text": [
            "/content/PaddleOCR\n",
            "Requirement already satisfied: bentoml in /usr/local/lib/python3.7/dist-packages (0.12.1)\n",
            "Requirement already satisfied: gunicorn in /usr/local/lib/python3.7/dist-packages (from bentoml) (20.1.0)\n",
            "Requirement already satisfied: protobuf>=3.8.0 in /usr/local/lib/python3.7/dist-packages (from bentoml) (3.12.4)\n",
            "Requirement already satisfied: schema in /usr/local/lib/python3.7/dist-packages (from bentoml) (0.7.4)\n",
            "Requirement already satisfied: humanfriendly in /usr/local/lib/python3.7/dist-packages (from bentoml) (9.1)\n",
            "Requirement already satisfied: dependency-injector<5.0,>=4.0 in /usr/local/lib/python3.7/dist-packages (from bentoml) (4.32.0)\n",
            "Requirement already satisfied: alembic in /usr/local/lib/python3.7/dist-packages (from bentoml) (1.5.8)\n",
            "Requirement already satisfied: tabulate in /usr/local/lib/python3.7/dist-packages (from bentoml) (0.8.9)\n",
            "Requirement already satisfied: deepmerge in /usr/local/lib/python3.7/dist-packages (from bentoml) (0.2.1)\n",
            "Requirement already satisfied: requests in /usr/local/lib/python3.7/dist-packages (from bentoml) (2.23.0)\n",
            "Requirement already satisfied: certifi in /usr/local/lib/python3.7/dist-packages (from bentoml) (2020.12.5)\n",
            "Requirement already satisfied: python-json-logger in /usr/local/lib/python3.7/dist-packages (from bentoml) (2.0.1)\n",
            "Requirement already satisfied: grpcio in /usr/local/lib/python3.7/dist-packages (from bentoml) (1.32.0)\n",
            "Requirement already satisfied: sqlalchemy<1.4.0,>=1.3.0 in /usr/local/lib/python3.7/dist-packages (from bentoml) (1.3.24)\n",
            "Requirement already satisfied: prometheus-client in /usr/local/lib/python3.7/dist-packages (from bentoml) (0.10.1)\n",
            "Requirement already satisfied: ruamel.yaml>=0.15.0 in /usr/local/lib/python3.7/dist-packages (from bentoml) (0.17.4)\n",
            "Requirement already satisfied: click>=7.0 in /usr/local/lib/python3.7/dist-packages (from bentoml) (7.1.2)\n",
            "Requirement already satisfied: sqlalchemy-utils<0.36.8 in /usr/local/lib/python3.7/dist-packages (from bentoml) (0.36.7)\n",
            "Requirement already satisfied: cerberus in /usr/local/lib/python3.7/dist-packages (from bentoml) (1.3.3)\n",
            "Requirement already satisfied: psutil in /usr/local/lib/python3.7/dist-packages (from bentoml) (5.4.8)\n",
            "Requirement already satisfied: configparser in /usr/local/lib/python3.7/dist-packages (from bentoml) (5.0.2)\n",
            "Requirement already satisfied: boto3 in /usr/local/lib/python3.7/dist-packages (from bentoml) (1.17.56)\n",
            "Requirement already satisfied: flask in /usr/local/lib/python3.7/dist-packages (from bentoml) (1.1.2)\n",
            "Requirement already satisfied: docker in /usr/local/lib/python3.7/dist-packages (from bentoml) (5.0.0)\n",
            "Requirement already satisfied: python-dateutil<3.0.0,>=2.7.3 in /usr/local/lib/python3.7/dist-packages (from bentoml) (2.8.1)\n",
            "Requirement already satisfied: aiohttp in /usr/local/lib/python3.7/dist-packages (from bentoml) (3.7.4.post0)\n",
            "Requirement already satisfied: numpy in /usr/local/lib/python3.7/dist-packages (from bentoml) (1.19.5)\n",
            "Requirement already satisfied: urllib3<=1.25.11 in /usr/local/lib/python3.7/dist-packages (from bentoml) (1.24.3)\n",
            "Requirement already satisfied: packaging in /usr/local/lib/python3.7/dist-packages (from bentoml) (20.9)\n",
            "Requirement already satisfied: chardet in /usr/local/lib/python3.7/dist-packages (from bentoml) (3.0.4)\n",
            "Requirement already satisfied: setuptools>=3.0 in /usr/local/lib/python3.7/dist-packages (from gunicorn->bentoml) (56.0.0)\n",
            "Requirement already satisfied: six>=1.9 in /usr/local/lib/python3.7/dist-packages (from protobuf>=3.8.0->bentoml) (1.15.0)\n",
            "Requirement already satisfied: contextlib2>=0.5.5 in /usr/local/lib/python3.7/dist-packages (from schema->bentoml) (0.5.5)\n",
            "Requirement already satisfied: Mako in /usr/local/lib/python3.7/dist-packages (from alembic->bentoml) (1.1.4)\n",
            "Requirement already satisfied: python-editor>=0.3 in /usr/local/lib/python3.7/dist-packages (from alembic->bentoml) (1.0.4)\n",
            "Requirement already satisfied: idna<3,>=2.5 in /usr/local/lib/python3.7/dist-packages (from requests->bentoml) (2.10)\n",
            "Requirement already satisfied: ruamel.yaml.clib>=0.1.2; platform_python_implementation == \"CPython\" and python_version < \"3.10\" in /usr/local/lib/python3.7/dist-packages (from ruamel.yaml>=0.15.0->bentoml) (0.2.2)\n",
            "Requirement already satisfied: s3transfer<0.5.0,>=0.4.0 in /usr/local/lib/python3.7/dist-packages (from boto3->bentoml) (0.4.2)\n",
            "Requirement already satisfied: jmespath<1.0.0,>=0.7.1 in /usr/local/lib/python3.7/dist-packages (from boto3->bentoml) (0.10.0)\n",
            "Requirement already satisfied: botocore<1.21.0,>=1.20.56 in /usr/local/lib/python3.7/dist-packages (from boto3->bentoml) (1.20.56)\n",
            "Requirement already satisfied: itsdangerous>=0.24 in /usr/local/lib/python3.7/dist-packages (from flask->bentoml) (1.1.0)\n",
            "Requirement already satisfied: Jinja2>=2.10.1 in /usr/local/lib/python3.7/dist-packages (from flask->bentoml) (2.11.3)\n",
            "Requirement already satisfied: Werkzeug>=0.15 in /usr/local/lib/python3.7/dist-packages (from flask->bentoml) (1.0.1)\n",
            "Requirement already satisfied: websocket-client>=0.32.0 in /usr/local/lib/python3.7/dist-packages (from docker->bentoml) (0.58.0)\n",
            "Requirement already satisfied: async-timeout<4.0,>=3.0 in /usr/local/lib/python3.7/dist-packages (from aiohttp->bentoml) (3.0.1)\n",
            "Requirement already satisfied: multidict<7.0,>=4.5 in /usr/local/lib/python3.7/dist-packages (from aiohttp->bentoml) (5.1.0)\n",
            "Requirement already satisfied: typing-extensions>=3.6.5 in /usr/local/lib/python3.7/dist-packages (from aiohttp->bentoml) (3.7.4.3)\n",
            "Requirement already satisfied: attrs>=17.3.0 in /usr/local/lib/python3.7/dist-packages (from aiohttp->bentoml) (20.3.0)\n",
            "Requirement already satisfied: yarl<2.0,>=1.0 in /usr/local/lib/python3.7/dist-packages (from aiohttp->bentoml) (1.6.3)\n",
            "Requirement already satisfied: pyparsing>=2.0.2 in /usr/local/lib/python3.7/dist-packages (from packaging->bentoml) (2.4.7)\n",
            "Requirement already satisfied: MarkupSafe>=0.9.2 in /usr/local/lib/python3.7/dist-packages (from Mako->alembic->bentoml) (1.1.1)\n",
            "Requirement already satisfied: imageio in /usr/local/lib/python3.7/dist-packages (2.4.1)\n",
            "Requirement already satisfied: numpy in /usr/local/lib/python3.7/dist-packages (from imageio) (1.19.5)\n",
            "Requirement already satisfied: pillow in /usr/local/lib/python3.7/dist-packages (from imageio) (7.1.2)\n"
          ],
          "name": "stdout"
        }
      ]
    },
    {
      "cell_type": "markdown",
      "metadata": {
        "id": "5CeOjFaR_e2x"
      },
      "source": [
        "# **Prepare Custom BentoService Artifact to handle PaddleOCR's pretrained models**"
      ]
    },
    {
      "cell_type": "code",
      "metadata": {
        "colab": {
          "base_uri": "https://localhost:8080/"
        },
        "id": "yayroXhE-sos",
        "outputId": "03bea072-e109-4c41-b5f7-73763b1773e3"
      },
      "source": [
        "%%writefile paddleOCRArtifact.py\n",
        "\n",
        "import os, shutil, json\n",
        "from bentoml.exceptions import InvalidArgument\n",
        "from bentoml.service.artifacts import BentoServiceArtifact\n",
        "\n",
        "class PaddleOCRArtifact(BentoServiceArtifact):\n",
        "    def __init__(self, name):\n",
        "        super(PaddleOCRArtifact, self).__init__(name)\n",
        "        self._predictor = None\n",
        "        self._inference_path = None\n",
        "        self._model_type = None\n",
        "\n",
        "    def _saved_inference_file_path(self, base_path):\n",
        "        return os.path.join(base_path, self.name)\n",
        "\n",
        "    def load(self, path):\n",
        "      pass\n",
        "\n",
        "    def pack(self, path, model_type, metadata=None):\n",
        "        self._inference_path = path\n",
        "        self._model_type = model_type\n",
        "        return self\n",
        "    \n",
        "    def save(self, dst):\n",
        "        print(self._inference_path, dst)\n",
        "        if self._inference_path:\n",
        "            shutil.copytree(self._inference_path, self._saved_inference_file_path(dst))\n",
        "        pass\n",
        "\n",
        "    def do_command(image_name, image_dir, det_model_dir, rec_model_dir, cls_model_dir, use_angle_cls=True, use_space_char=True):\n",
        "        cmd = \"python3 tools/infer/predict_system.py --image_dir=\" + image_dir + \" --det_model_dir=\" + det_model_dir + \" --rec_model_dir=\" + rec_model_dir + \" --cls_model_dir=\" + cls_model_dir + \" --use_angle_cls=\" + str(use_angle_cls) + \" --use_space_char=\" + str(use_space_char)\n",
        "        os.system(cmd)\n",
        "        return './inference_results/' + image_name\n",
        "\n",
        "    def get(self):\n",
        "        pass"
      ],
      "execution_count": 15,
      "outputs": [
        {
          "output_type": "stream",
          "text": [
            "Overwriting paddleOCRArtifact.py\n"
          ],
          "name": "stdout"
        }
      ]
    },
    {
      "cell_type": "markdown",
      "metadata": {
        "id": "aEiqsFpJ_qk-"
      },
      "source": [
        "# **Create BentoService for model serving**"
      ]
    },
    {
      "cell_type": "code",
      "metadata": {
        "colab": {
          "base_uri": "https://localhost:8080/"
        },
        "id": "Hhiqk3VP_mqe",
        "outputId": "919729a3-7503-4141-e2c5-e27527fa4b3a"
      },
      "source": [
        "%%writefile paddleOCR_service.py\n",
        "import pandas as pd\n",
        "\n",
        "import bentoml, imageio\n",
        "from typing import List\n",
        "from bentoml import env, artifacts, api, BentoService\n",
        "from bentoml.adapters import StringInput\n",
        "from paddleOCRArtifact import PaddleOCRArtifact\n",
        "\n",
        "@env(infer_pip_packages=True)\n",
        "@artifacts([PaddleOCRArtifact('model')])\n",
        "class paddleOCRService(bentoml.BentoService):\n",
        "\n",
        "  @api(input=StringInput(), batch=True)\n",
        "  def predict(self, image_info):\n",
        "        attribs = image_info.split(\" \")\n",
        "        image_name = attribs[0]\n",
        "        image_dir = attribs[1]\n",
        "        det_model_dir = attribs[2]\n",
        "        rec_model_dir = attribs[3]\n",
        "        cls_model_dir = attribs[4]\n",
        "        return PaddleOCRArtifact.do_command(image_name, image_dir, det_model_dir, rec_model_dir, cls_model_dir)"
      ],
      "execution_count": 16,
      "outputs": [
        {
          "output_type": "stream",
          "text": [
            "Overwriting paddleOCR_service.py\n"
          ],
          "name": "stdout"
        }
      ]
    },
    {
      "cell_type": "code",
      "metadata": {
        "id": "CstExs3Savqn",
        "colab": {
          "base_uri": "https://localhost:8080/"
        },
        "outputId": "6a6f48ad-afb1-4ded-84a8-8364dbfe20cb"
      },
      "source": [
        "# 1) import the custom BentoService defined above\n",
        "from paddleOCR_service import paddleOCRService\n",
        "\n",
        "# 2) `pack` it with required artifacts\n",
        "bento_svc = paddleOCRService()\n",
        "bento_svc.pack(name='model', path='/content/PaddleOCR/inference', model_type='ch_ppocr_mobile_v2.0_')\n",
        "\n",
        "# 3) save your BentoSerivce\n",
        "saved_path = bento_svc.save()\n",
        "\n",
        "from bentoml import load\n",
        "\n",
        "svc = load(saved_path)\n"
      ],
      "execution_count": 17,
      "outputs": [
        {
          "output_type": "stream",
          "text": [
            "/content/PaddleOCR/inference /tmp/bentoml-temp-3432ud6l/paddleOCRService/artifacts\n",
            "[2021-04-23 23:01:55,131] INFO - BentoService bundle 'paddleOCRService:20210423230154_54E746' saved to: /root/bentoml/repository/paddleOCRService/20210423230154_54E746\n",
            "[2021-04-23 23:01:55,832] WARNING - Module `paddleOCR_service` already loaded, using existing imported module.\n"
          ],
          "name": "stdout"
        }
      ]
    },
    {
      "cell_type": "markdown",
      "metadata": {
        "id": "IvUU0k0JCxYk"
      },
      "source": [
        "# **REST API Model Serving**"
      ]
    },
    {
      "cell_type": "code",
      "metadata": {
        "colab": {
          "base_uri": "https://localhost:8080/"
        },
        "id": "CeJEIDyj_xGK",
        "outputId": "81bd7cde-547c-4523-e3bc-8ae5cd9f195c"
      },
      "source": [
        "!bentoml serve paddleOCRService:latest"
      ],
      "execution_count": 9,
      "outputs": [
        {
          "output_type": "stream",
          "text": [
            "/usr/local/lib/python3.7/dist-packages/psycopg2/__init__.py:144: UserWarning: The psycopg2 wheel package will be renamed from release 2.8; in order to keep installing from binary please use \"pip install psycopg2-binary\" instead. For details see: <http://initd.org/psycopg/docs/install.html#binary-install-from-pypi>.\n",
            "  \"\"\")\n",
            "[2021-04-23 22:59:37,435] INFO - Getting latest version paddleOCRService:20210423225933_91A28E\n",
            "[2021-04-23 22:59:37,453] INFO - Starting BentoML API proxy in development mode..\n",
            "[2021-04-23 22:59:37,454] INFO - Starting BentoML API server in development mode..\n",
            "[2021-04-23 22:59:37,600] INFO - Your system nofile limit is 1048576, which means each instance of microbatch service is able to hold this number of connections at same time. You can increase the number of file descriptors for the server process, or launch more microbatch instances to accept more concurrent connection.\n",
            "======== Running on http://0.0.0.0:5000 ========\n",
            "(Press CTRL+C to quit)\n",
            "\n",
            "Aborted!\n"
          ],
          "name": "stdout"
        }
      ]
    },
    {
      "cell_type": "markdown",
      "metadata": {
        "id": "FPoKbR6cCq8_"
      },
      "source": [
        "If you are running this notebook from Google Colab, you can start the dev server with --run-with-ngrok option, to gain acccess to the API endpoint via a public endpoint managed by ngrok:"
      ]
    },
    {
      "cell_type": "code",
      "metadata": {
        "colab": {
          "base_uri": "https://localhost:8080/"
        },
        "id": "RodE8ooiCqRw",
        "outputId": "875de6ef-3776-4ddf-ce46-9df8496b2bc0"
      },
      "source": [
        "!bentoml serve paddleOCRService:latest --run-with-ngrok"
      ],
      "execution_count": 10,
      "outputs": [
        {
          "output_type": "stream",
          "text": [
            "/usr/local/lib/python3.7/dist-packages/psycopg2/__init__.py:144: UserWarning: The psycopg2 wheel package will be renamed from release 2.8; in order to keep installing from binary please use \"pip install psycopg2-binary\" instead. For details see: <http://initd.org/psycopg/docs/install.html#binary-install-from-pypi>.\n",
            "  \"\"\")\n",
            "\n",
            "Aborted!\n"
          ],
          "name": "stdout"
        }
      ]
    },
    {
      "cell_type": "markdown",
      "metadata": {
        "id": "FMCrkYb5DDHB"
      },
      "source": [
        "# **Make request to the REST server**\n",
        "\n",
        "*After navigating to the location of this notebook, copy and paste the following code to your terminal and run it to make request*"
      ]
    },
    {
      "cell_type": "code",
      "metadata": {
        "id": "fMyLXOIUDXSn",
        "colab": {
          "base_uri": "https://localhost:8080/",
          "height": 129
        },
        "outputId": "68498bb0-f6ea-4eba-e9c6-82996163e629"
      },
      "source": [
        "curl -i \\\n",
        "--request POST \\\n",
        "--header \"Content-Type: text/csv\" \\\n",
        "-d @test.csv \\\n",
        "localhost:5000/predict"
      ],
      "execution_count": 11,
      "outputs": [
        {
          "output_type": "error",
          "ename": "SyntaxError",
          "evalue": "ignored",
          "traceback": [
            "\u001b[0;36m  File \u001b[0;32m\"<ipython-input-11-5aeca19692c6>\"\u001b[0;36m, line \u001b[0;32m1\u001b[0m\n\u001b[0;31m    curl -i --request POST --header \"Content-Type: text/csv\" -d @test.csv localhost:5000/predict\u001b[0m\n\u001b[0m                         ^\u001b[0m\n\u001b[0;31mSyntaxError\u001b[0m\u001b[0;31m:\u001b[0m invalid syntax\n"
          ]
        }
      ]
    },
    {
      "cell_type": "markdown",
      "metadata": {
        "id": "6RA0JpPjDMt8"
      },
      "source": [
        "# **Containerize model server with Docker**\n",
        "\n",
        "One common way of distributing this model API server for production deployment, is via Docker containers. And BentoML provides a convenient way to do that.\n",
        "\n",
        "Note that docker is **not available in Google Colab**. You will need to download and run this notebook locally to try out this containerization with docker feature.\n",
        "\n",
        "If you already have docker configured, simply run the follow command to product a docker container serving the PaddleLinearRegression prediction service created above:"
      ]
    },
    {
      "cell_type": "code",
      "metadata": {
        "id": "JKUGBMNWDJnr"
      },
      "source": [
        "!bentoml containerize paddleOCRService:latest"
      ],
      "execution_count": null,
      "outputs": []
    },
    {
      "cell_type": "code",
      "metadata": {
        "id": "0nyRChqMDwv4"
      },
      "source": [
        "!docker run --rm -p 5000:5000 paddleOCRService:20210423230154_54E746"
      ],
      "execution_count": null,
      "outputs": []
    },
    {
      "cell_type": "markdown",
      "metadata": {
        "id": "DlGTKeMnEEyE"
      },
      "source": [
        "# **Launch inference job from CLI**"
      ]
    },
    {
      "cell_type": "code",
      "metadata": {
        "colab": {
          "base_uri": "https://localhost:8080/"
        },
        "id": "dkjMtr_jNv1q",
        "outputId": "6033f224-09ef-48eb-b065-76063c1a4421"
      },
      "source": [
        "%%writefile input.txt\n",
        "\"11.jpg\" \"./doc/imgs/11.jpg\" \"./inference/ch_ppocr_mobile_v2.0_det_infer/\" \"./inference/ch_ppocr_mobile_v2.0_rec_infer/\" \"./inference/ch_ppocr_mobile_v2.0_cls_infer/\""
      ],
      "execution_count": 20,
      "outputs": [
        {
          "output_type": "stream",
          "text": [
            "Overwriting input.txt\n"
          ],
          "name": "stdout"
        }
      ]
    },
    {
      "cell_type": "code",
      "metadata": {
        "colab": {
          "base_uri": "https://localhost:8080/"
        },
        "id": "4fgqIWWIEIva",
        "outputId": "07242a39-6881-48f6-d3d2-456d870b5914"
      },
      "source": [
        "!bentoml run paddleOCRService:latest predict --input-file input.txt"
      ],
      "execution_count": 21,
      "outputs": [
        {
          "output_type": "stream",
          "text": [
            "/usr/local/lib/python3.7/dist-packages/psycopg2/__init__.py:144: UserWarning: The psycopg2 wheel package will be renamed from release 2.8; in order to keep installing from binary please use \"pip install psycopg2-binary\" instead. For details see: <http://initd.org/psycopg/docs/install.html#binary-install-from-pypi>.\n",
            "  \"\"\")\n",
            "[2021-04-23 23:02:10,853] INFO - Getting latest version paddleOCRService:20210423230154_54E746\n",
            "\"11.jpg\" \"./doc/imgs/11.jpg\" \"./inference/ch_ppocr_mobile_v2.0_det_infer/\" \"./inference/ch_ppocr_mobile_v2.0_rec_infer/\" \"./inference/ch_ppocr_mobile_v2.0_cls_infer/\"\n",
            "python3 tools/infer/predict_system.py --image_dir=\"./doc/imgs/11.jpg\" --det_model_dir=\"./inference/ch_ppocr_mobile_v2.0_det_infer/\" --rec_model_dir=\"./inference/ch_ppocr_mobile_v2.0_rec_infer/\" --cls_model_dir=\"./inference/ch_ppocr_mobile_v2.0_cls_infer/\" --use_angle_cls=True --use_space_char=True\n",
            "E0423 23:02:14.118669  1311 analysis_config.cc:78] Please compile with gpu to EnableGpu()\n",
            "E0423 23:02:14.285444  1311 analysis_config.cc:78] Please compile with gpu to EnableGpu()\n",
            "E0423 23:02:14.402758  1311 analysis_config.cc:78] Please compile with gpu to EnableGpu()\n",
            "[2021/04/23 23:02:15] root INFO: dt_boxes num : 16, elapse : 0.6765918731689453\n",
            "[2021/04/23 23:02:15] root INFO: cls num  : 16, elapse : 0.13097333908081055\n",
            "[2021/04/23 23:02:16] root INFO: rec_res num  : 16, elapse : 0.7456762790679932\n",
            "[2021/04/23 23:02:16] root INFO: Predict time of ./doc/imgs/11.jpg: 1.581s\n",
            "[2021/04/23 23:02:16] root INFO: 纯臻营养护发素, 0.982\n",
            "[2021/04/23 23:02:16] root INFO: 产品信息/参数, 0.991\n",
            "[2021/04/23 23:02:16] root INFO: （45元/每公斤，100公斤起订）, 0.951\n",
            "[2021/04/23 23:02:16] root INFO: 每瓶22元，1000瓶起订）, 0.995\n",
            "[2021/04/23 23:02:16] root INFO: 【品牌】：代加工方式/OEMODM, 0.986\n",
            "[2021/04/23 23:02:16] root INFO: 【品名】：纯臻营养护发素, 0.988\n",
            "[2021/04/23 23:02:16] root INFO: 【产品编号】：YM-X-3011, 0.967\n",
            "[2021/04/23 23:02:16] root INFO: ODM OEM, 0.934\n",
            "[2021/04/23 23:02:16] root INFO: 【净含量】：220ml, 0.982\n",
            "[2021/04/23 23:02:16] root INFO: 【适用人群】：适合所有肤质, 0.979\n",
            "[2021/04/23 23:02:16] root INFO: 【主要成分】：鲸蜡硬脂醇、燕麦3-葡聚, 0.941\n",
            "[2021/04/23 23:02:16] root INFO: 糖、椰油酰胺内基甜菜碱、泛能, 0.771\n",
            "[2021/04/23 23:02:16] root INFO: （成品包材）, 0.993\n",
            "[2021/04/23 23:02:16] root INFO: 【主要功能】：可紧致头发磷层，从而达到, 0.980\n",
            "[2021/04/23 23:02:16] root INFO: 即时持久改善头发光泽的效果，给干燥的头, 0.981\n",
            "[2021/04/23 23:02:16] root INFO: 发足够的滋养, 0.998\n",
            "[2021/04/23 23:02:16] root INFO: The visualized image saved in ./inference_results/11.jpg\n",
            "[2021-04-23 23:02:16,409] ERROR - Error caught in API function:\n",
            "Traceback (most recent call last):\n",
            "  File \"/usr/local/lib/python3.7/dist-packages/bentoml/service/inference_api.py\", line 177, in wrapped_func\n",
            "    return self._user_func(*args, **kwargs)\n",
            "  File \"/root/bentoml/repository/paddleOCRService/20210423230154_54E746/paddleOCRService/paddleOCR_service.py\", line 21, in predict\n",
            "    return PaddleOCRArtifact.do_command(image_name, image_dir, det_model_dir, rec_model_dir, cls_model_dir)\n",
            "  File \"/root/bentoml/repository/paddleOCRService/20210423230154_54E746/paddleOCRService/paddleOCRArtifact.py\", line 38, in do_command\n",
            "    cv2_imshow(img)\n",
            "  File \"/usr/local/lib/python3.7/dist-packages/google/colab/patches/__init__.py\", line 22, in cv2_imshow\n",
            "    a = a.clip(0, 255).astype('uint8')\n",
            "AttributeError: 'NoneType' object has no attribute 'clip'\n",
            "2021-04-23 23:02:16.550639: I tensorflow/stream_executor/platform/default/dso_loader.cc:49] Successfully opened dynamic library libcudart.so.11.0\n",
            "Exception happened in API function: 'NoneType' object has no attribute 'clip'\n"
          ],
          "name": "stdout"
        }
      ]
    },
    {
      "cell_type": "markdown",
      "metadata": {
        "id": "Jb-srm9RENeh"
      },
      "source": [
        "# **Deployment Options**\n",
        "\n",
        "If you are at a small team with limited engineering or DevOps resources, try out automated deployment with BentoML CLI, currently supporting AWS Lambda, AWS SageMaker, and Azure Functions:\n",
        "\n",
        "* [AWS Lambda Deployment Guide](https://docs.bentoml.org/en/latest/deployment/aws_lambda.html)\n",
        "* [AWS SageMaker Deployment Guide](https://docs.bentoml.org/en/latest/deployment/aws_sagemaker.html)\n",
        "* [Azure Functions Deployment Guide](https://docs.bentoml.org/en/latest/deployment/azure_functions.html)\n",
        "\n",
        "If the cloud platform you are working with is not on the list above, try out these step-by-step guide on manually deploying BentoML packaged model to cloud platforms:\n",
        "\n",
        "* [AWS ECS Deployment](https://docs.bentoml.org/en/latest/deployment/aws_ecs.html)\n",
        "* [Google Cloud Run Deployment](https://docs.bentoml.org/en/latest/deployment/google_cloud_run.html)\n",
        "* [Azure container instance Deployment](https://docs.bentoml.org/en/latest/deployment/azure_container_instance.html)\n",
        "* [Heroku Deployment](https://docs.bentoml.org/en/latest/deployment/heroku.html)\n",
        "\n",
        "Lastly, if you have a DevOps or ML Engineering team who's operating a Kubernetes or OpenShift cluster, use the following guides as references for implementating your deployment strategy:\n",
        "\n",
        "* [Kubernetes Deployment](https://docs.bentoml.org/en/latest/deployment/kubernetes.html)\n",
        "* [Knative Deployment](https://docs.bentoml.org/en/latest/deployment/knative.html)\n",
        "* [Kubeflow Deployment](https://docs.bentoml.org/en/latest/deployment/kubeflow.html)\n",
        "* [KFServing Deployment](https://docs.bentoml.org/en/latest/deployment/kfserving.html)\n",
        "* [Clipper.ai Deployment Guide](https://docs.bentoml.org/en/latest/deployment/clipper.html)"
      ]
    }
  ]
}